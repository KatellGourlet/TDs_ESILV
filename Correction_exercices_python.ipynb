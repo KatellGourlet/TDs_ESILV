{
 "cells": [
  {
   "cell_type": "code",
   "execution_count": null,
   "metadata": {},
   "outputs": [],
   "source": [
    "!git add \"Correction_exercices_python.ipynb\"\"\n"
   ]
  },
  {
   "cell_type": "markdown",
   "metadata": {},
   "source": [
    "# Ex. 1: from a list of lists to a dictionnary"
   ]
  },
  {
   "cell_type": "code",
   "execution_count": 1,
   "metadata": {},
   "outputs": [],
   "source": [
    "liste = [[1, 2], [3,4], [5,6], [7,8]]"
   ]
  },
  {
   "cell_type": "markdown",
   "metadata": {},
   "source": [
    "* dict comprehension"
   ]
  },
  {
   "cell_type": "code",
   "execution_count": 9,
   "metadata": {},
   "outputs": [
    {
     "data": {
      "text/plain": [
       "{1: 2, 3: 4, 5: 6, 7: 8}"
      ]
     },
     "execution_count": 9,
     "metadata": {},
     "output_type": "execute_result"
    }
   ],
   "source": [
    "{ item1:item2  for item1, item2 in liste }\n"
   ]
  },
  {
   "cell_type": "code",
   "execution_count": 8,
   "metadata": {},
   "outputs": [
    {
     "data": {
      "text/plain": [
       "{1: 2, 3: 4, 5: 6, 7: 8}"
      ]
     },
     "execution_count": 8,
     "metadata": {},
     "output_type": "execute_result"
    }
   ],
   "source": [
    "{x[0]:x[1] for x in liste}"
   ]
  },
  {
   "cell_type": "markdown",
   "metadata": {},
   "source": [
    "* loop"
   ]
  },
  {
   "cell_type": "code",
   "execution_count": 10,
   "metadata": {},
   "outputs": [
    {
     "data": {
      "text/plain": [
       "{1: 2, 3: 4, 5: 6, 7: 8}"
      ]
     },
     "execution_count": 10,
     "metadata": {},
     "output_type": "execute_result"
    }
   ],
   "source": [
    "dico = {}\n",
    "for item1, item2 in liste:\n",
    "    dico[item1] = item2\n",
    "dico"
   ]
  },
  {
   "cell_type": "markdown",
   "metadata": {},
   "source": [
    "*  dict constructor"
   ]
  },
  {
   "cell_type": "code",
   "execution_count": 11,
   "metadata": {},
   "outputs": [
    {
     "data": {
      "text/plain": [
       "True"
      ]
     },
     "execution_count": 11,
     "metadata": {},
     "output_type": "execute_result"
    }
   ],
   "source": [
    "{} == dict()"
   ]
  },
  {
   "cell_type": "code",
   "execution_count": 12,
   "metadata": {},
   "outputs": [
    {
     "data": {
      "text/plain": [
       "{1: 2, 3: 4, 5: 6, 7: 8}"
      ]
     },
     "execution_count": 12,
     "metadata": {},
     "output_type": "execute_result"
    }
   ],
   "source": [
    "dict(liste)"
   ]
  },
  {
   "cell_type": "markdown",
   "metadata": {},
   "source": [
    "# Ex. 2: Counting character frequencies in a text"
   ]
  },
  {
   "cell_type": "code",
   "execution_count": 14,
   "metadata": {},
   "outputs": [],
   "source": [
    "text = \"\"\"Lorem ipsum dolor sit amet, consectetur adipiscing elit. Vestibulum sagittis neque turpis, in gravida erat tincidunt a. Maecenas lobortis rutrum arcu, in posuere dolor fermentum sed. Duis imperdiet laoreet nibh, a pretium lectus condimentum eget. Maecenas eu elit vitae nibh euismod lacinia et a tortor. Donec at egestas leo, eget molestie quam. Sed elementum scelerisque sapien, quis suscipit ex malesuada vel. Aenean non mollis erat, in tincidunt massa.\n",
    "\n",
    "Mauris semper, purus in dictum imperdiet, libero nunc bibendum ex, eget facilisis turpis lorem ac lorem. Sed bibendum scelerisque tortor vel dictum. Aliquam dignissim eget erat non mollis. Maecenas vehicula feugiat tortor, in vulputate ex molestie nec. Ut suscipit iaculis nulla, auctor elementum urna dapibus non. Fusce facilisis mollis tellus sit amet venenatis. Praesent metus enim, tincidunt posuere tellus et, placerat tincidunt justo.\n",
    "\n",
    "Nunc id gravida ipsum, id porttitor magna. Maecenas porttitor accumsan odio non mattis. Suspendisse ultrices eleifend tristique. Vivamus accumsan libero tortor, eu aliquam sapien iaculis sed. In congue quis mi sed condimentum. Ut est libero, condimentum sit amet sagittis eu, tincidunt sed risus. Suspendisse pharetra molestie rutrum. Cras bibendum, dui ac consectetur eleifend, leo leo laoreet nibh, eget tristique lorem enim a nisi.\n",
    "\n",
    "Duis a purus eu augue consectetur malesuada id nec ex. Pellentesque sed odio laoreet, imperdiet dui ut, sodales odio. Class aptent taciti sociosqu ad litora torquent per conubia nostra, per inceptos himenaeos. Donec interdum, tortor eu dapibus pharetra, libero nisi faucibus nisl, id malesuada felis diam id urna. Praesent est metus, gravida eu luctus vitae, egestas vel metus. Class aptent taciti sociosqu ad litora torquent per conubia nostra, per inceptos himenaeos. Cras suscipit malesuada dui, vitae faucibus libero mollis a. In posuere blandit augue, sed semper ante imperdiet sed. Cras egestas posuere augue at semper. Praesent fermentum nunc risus, vitae aliquet augue consectetur a. Fusce interdum orci nunc, non posuere ex venenatis id. Nam faucibus fringilla mollis. Nulla ac enim accumsan, accumsan risus sit amet, rutrum tellus. Praesent lacinia augue at pulvinar venenatis. Etiam nunc augue, suscipit a faucibus sed, sodales ut mauris.\n",
    "\n",
    "Quisque quis magna malesuada, ultricies leo eget, elementum est. Praesent enim purus, pretium a nisl quis, accumsan blandit sapien. Class aptent taciti sociosqu ad litora torquent per conubia nostra, per inceptos himenaeos. Mauris ultricies iaculis nunc, quis fringilla arcu bibendum ac. Integer eu sem eget dui tempor sagittis. Ut sit amet ipsum quis nisi porttitor pulvinar. Etiam suscipit, leo nec fringilla luctus, lacus est egestas augue, eget vestibulum augue diam non eros. Duis posuere ac magna eget ullamcorper.\n",
    "\"\"\""
   ]
  },
  {
   "cell_type": "code",
   "execution_count": 21,
   "metadata": {},
   "outputs": [],
   "source": [
    "dico1 = {}\n",
    "for char in text:\n",
    "    if char in dico1:\n",
    "        dico1[char] += 1\n",
    "    else:\n",
    "        dico1[char] = 1\n",
    "#dico1"
   ]
  },
  {
   "cell_type": "markdown",
   "metadata": {},
   "source": [
    "En un peu mieux..."
   ]
  },
  {
   "cell_type": "code",
   "execution_count": 23,
   "metadata": {},
   "outputs": [],
   "source": [
    "dico1 = {}\n",
    "for char in text:\n",
    "    dico1[char] = dico1.get(char, 0) + 1\n",
    "#dico1"
   ]
  },
  {
   "cell_type": "markdown",
   "metadata": {},
   "source": [
    "* `defaultdict`\n"
   ]
  },
  {
   "cell_type": "code",
   "execution_count": 24,
   "metadata": {},
   "outputs": [],
   "source": [
    "from collections import defaultdict"
   ]
  },
  {
   "cell_type": "code",
   "execution_count": 28,
   "metadata": {},
   "outputs": [
    {
     "data": {
      "text/plain": [
       "True"
      ]
     },
     "execution_count": 28,
     "metadata": {},
     "output_type": "execute_result"
    }
   ],
   "source": [
    "3 == int(3)"
   ]
  },
  {
   "cell_type": "code",
   "execution_count": 29,
   "metadata": {},
   "outputs": [
    {
     "data": {
      "text/plain": [
       "True"
      ]
     },
     "execution_count": 29,
     "metadata": {},
     "output_type": "execute_result"
    }
   ],
   "source": [
    "[] == list()"
   ]
  },
  {
   "cell_type": "code",
   "execution_count": 30,
   "metadata": {},
   "outputs": [
    {
     "data": {
      "text/plain": [
       "True"
      ]
     },
     "execution_count": 30,
     "metadata": {},
     "output_type": "execute_result"
    }
   ],
   "source": [
    "{} == dict()"
   ]
  },
  {
   "cell_type": "code",
   "execution_count": 31,
   "metadata": {},
   "outputs": [
    {
     "data": {
      "text/plain": [
       "0"
      ]
     },
     "execution_count": 31,
     "metadata": {},
     "output_type": "execute_result"
    }
   ],
   "source": [
    "int()"
   ]
  },
  {
   "cell_type": "code",
   "execution_count": 33,
   "metadata": {},
   "outputs": [],
   "source": [
    "dico1 = defaultdict(int)\n",
    "for char in text:\n",
    "    dico1[char] += 1 # si char pas présent\n",
    "    # int() est appelé sans arguments => 0\n",
    "#dico1"
   ]
  },
  {
   "cell_type": "code",
   "execution_count": 63,
   "metadata": {},
   "outputs": [
    {
     "data": {
      "text/plain": [
       "defaultdict(<function __main__.<lambda>()>, {'a': 2, 'b': 2, 'd': 3})"
      ]
     },
     "execution_count": 63,
     "metadata": {},
     "output_type": "execute_result"
    }
   ],
   "source": [
    "# avec notre propre factory fonction\n",
    "#dico_test = defaultdict(lambda : 1)\n",
    "#for char in \"abdd\":\n",
    "#    dico_test[char] += 1\n",
    "#dico_test"
   ]
  },
  {
   "cell_type": "markdown",
   "metadata": {},
   "source": [
    "### mieux: lister les index d'occurences des characters"
   ]
  },
  {
   "cell_type": "code",
   "execution_count": 42,
   "metadata": {},
   "outputs": [
    {
     "name": "stdout",
     "output_type": "stream",
     "text": [
      "a\n",
      "a\n",
      "b\n",
      "c\n",
      "d\n"
     ]
    }
   ],
   "source": [
    "for index, char in enumerate(\"aabcd\"):\n",
    "    print( char)"
   ]
  },
  {
   "cell_type": "code",
   "execution_count": 44,
   "metadata": {},
   "outputs": [],
   "source": [
    "dico2 = defaultdict(list)\n",
    "for index, char in enumerate(text):\n",
    "    dico2[char].append(index)\n",
    "#dico2"
   ]
  },
  {
   "cell_type": "markdown",
   "metadata": {},
   "source": [
    "### rappel: zip"
   ]
  },
  {
   "cell_type": "code",
   "execution_count": 46,
   "metadata": {},
   "outputs": [],
   "source": [
    "liste1 = [1,2,3,4]\n",
    "liste2 = [\"Jeanne\", \"Marie\",\"Luc\", \"René\", \"Sébastien\"]"
   ]
  },
  {
   "cell_type": "code",
   "execution_count": 47,
   "metadata": {},
   "outputs": [
    {
     "name": "stdout",
     "output_type": "stream",
     "text": [
      "1\n",
      "Jeanne\n",
      " ___ \n",
      "2\n",
      "Marie\n",
      " ___ \n",
      "3\n",
      "Luc\n",
      " ___ \n",
      "4\n",
      "René\n",
      " ___ \n"
     ]
    }
   ],
   "source": [
    "for a, b in zip(liste1, liste2):\n",
    "    print( a )\n",
    "    print( b )\n",
    "    print(\" ___ \")"
   ]
  },
  {
   "cell_type": "code",
   "execution_count": 48,
   "metadata": {},
   "outputs": [
    {
     "data": {
      "text/plain": [
       "{1: 'Jeanne', 2: 'Marie', 3: 'Luc', 4: 'René'}"
      ]
     },
     "execution_count": 48,
     "metadata": {},
     "output_type": "execute_result"
    }
   ],
   "source": [
    "dict(zip(liste1, liste2))"
   ]
  },
  {
   "cell_type": "markdown",
   "metadata": {},
   "source": [
    "* `Counter`"
   ]
  },
  {
   "cell_type": "code",
   "execution_count": 50,
   "metadata": {},
   "outputs": [],
   "source": [
    "from collections import Counter"
   ]
  },
  {
   "cell_type": "code",
   "execution_count": 52,
   "metadata": {},
   "outputs": [
    {
     "data": {
      "text/plain": [
       "Counter({'L': 1,\n",
       "         'o': 108,\n",
       "         'r': 128,\n",
       "         'e': 285,\n",
       "         'm': 99,\n",
       "         ' ': 410,\n",
       "         'i': 229,\n",
       "         'p': 59,\n",
       "         's': 203,\n",
       "         'u': 190,\n",
       "         'd': 71,\n",
       "         'l': 106,\n",
       "         't': 196,\n",
       "         'a': 192,\n",
       "         ',': 47,\n",
       "         'c': 96,\n",
       "         'n': 147,\n",
       "         'g': 38,\n",
       "         '.': 46,\n",
       "         'V': 2,\n",
       "         'b': 30,\n",
       "         'q': 23,\n",
       "         'v': 19,\n",
       "         'M': 6,\n",
       "         'f': 15,\n",
       "         'D': 5,\n",
       "         'h': 9,\n",
       "         'S': 4,\n",
       "         'x': 5,\n",
       "         'A': 2,\n",
       "         '\\n': 9,\n",
       "         'U': 3,\n",
       "         'F': 2,\n",
       "         'P': 6,\n",
       "         'j': 1,\n",
       "         'N': 3,\n",
       "         'I': 3,\n",
       "         'C': 6,\n",
       "         'E': 2,\n",
       "         'Q': 1})"
      ]
     },
     "execution_count": 52,
     "metadata": {},
     "output_type": "execute_result"
    }
   ],
   "source": [
    "Counter(text)"
   ]
  },
  {
   "cell_type": "markdown",
   "metadata": {},
   "source": [
    "### splitter en mots"
   ]
  },
  {
   "cell_type": "code",
   "execution_count": 76,
   "metadata": {},
   "outputs": [],
   "source": [
    "import re # avec regular expression pour ôter les caractères de ponctuations\n",
    "text_transformed = re.sub(r\"[^a-zA-Z0-9]\", \" \", text)\n",
    "# ou sans regular expression\n",
    "#text.replace(\".\", \"\").replace(\",\", \"\").split(\" \")\n",
    "\n",
    "## puis \n",
    "\n",
    "# Counter( text_transformed.split() )"
   ]
  },
  {
   "cell_type": "markdown",
   "metadata": {},
   "source": [
    "# Ex. 3: decoding mARN using dict and list comprehensions !\n",
    "\n"
   ]
  },
  {
   "cell_type": "markdown",
   "metadata": {},
   "source": [
    "> python docs: a tuple with one item is constructed by following a value with a comma (it is not sufficient to enclose a single value in parentheses). Ugly, but effective."
   ]
  },
  {
   "cell_type": "code",
   "execution_count": 85,
   "metadata": {},
   "outputs": [
    {
     "data": {
      "text/plain": [
       "'ACG'"
      ]
     },
     "execution_count": 85,
     "metadata": {},
     "output_type": "execute_result"
    }
   ],
   "source": [
    "\"ACG\""
   ]
  },
  {
   "cell_type": "code",
   "execution_count": 84,
   "metadata": {},
   "outputs": [
    {
     "data": {
      "text/plain": [
       "'ATG'"
      ]
     },
     "execution_count": 84,
     "metadata": {},
     "output_type": "execute_result"
    }
   ],
   "source": [
    "(\"ATG\")"
   ]
  },
  {
   "cell_type": "code",
   "execution_count": 86,
   "metadata": {},
   "outputs": [
    {
     "data": {
      "text/plain": [
       "('ATG',)"
      ]
     },
     "execution_count": 86,
     "metadata": {},
     "output_type": "execute_result"
    }
   ],
   "source": [
    "(\"ATG\", )"
   ]
  },
  {
   "cell_type": "code",
   "execution_count": 77,
   "metadata": {},
   "outputs": [],
   "source": [
    "amino_acids_from_triplets = {\n",
    " \"Ala\":   (\"GCT\", \"GCC\", \"GCA\", \"GCG\"),\n",
    " \"Arg\":    (\"CGT\", \"CGC\", \"CGA\", \"CGG\", \"AGA\", \"AGG\"),\n",
    " \"Asn\":    (\"AAT\", \"AAC\"),\n",
    " \"Asp\":    (\"GAT\", \"GAC\"),\n",
    " \"Cys\":    (\"TGT\", \"TGC\"),\n",
    " \"Gln\":    (\"CAA\", \"CAG\"),\n",
    " \"Glu\":    (\"GAA\", \"GAG\"),\n",
    " \"Gly\":    (\"GGT\", \"GGC\", \"GGA\", \"GGG\"),\n",
    " \"His\":    (\"CAT\", \"CAC\"),\n",
    " \"Ile\":    (\"ATT\", \"ATC\", \"ATA\"),\n",
    " \"Leu\":    (\"CTT\", \"CTC\", \"CTA\", \"CTG\", \"TTA\", \"TTG\"),\n",
    " \"Lys\":    (\"AAA\", \"AAG\"),\n",
    " \"Met\":    (\"ATG\"),\n",
    " \"Phe\":    (\"TTT\", \"TTC\"),\n",
    " \"Pro\":    (\"CCT\", \"CCC\", \"CCA\", \"CCG\"),\n",
    " \"Ser\":    (\"TCT\", \"TCC\", \"TCA\", \"TCG\", \"AGT\", \"AGC\"),\n",
    " \"Thr\":    (\"ACT\", \"ACC\", \"ACA\", \"ACG\"),\n",
    " \"Trp\":    (\"TGG\"),\n",
    " \"Tyr\":    (\"TAT\", \"TAC\"),\n",
    " \"Val\":    (\"GTT\", \"GTC\", \"GTA\", \"GTG\"),\n",
    " \"STOP\":   (\"TAA\", \"TGA\", \"TAG\") \n",
    "}"
   ]
  },
  {
   "cell_type": "code",
   "execution_count": 98,
   "metadata": {},
   "outputs": [],
   "source": [
    "all_triplets_to_amino_acids = { v:k for k,v in amino_acids_from_triplets.items() }"
   ]
  },
  {
   "cell_type": "code",
   "execution_count": 102,
   "metadata": {},
   "outputs": [],
   "source": [
    "dico = {}\n",
    "for key,val in all_triplets_to_amino_acids.items():\n",
    "    if type(key) is tuple:\n",
    "        for k in key:\n",
    "            dico[k] = val\n",
    "    else:\n",
    "        dico[key] = val\n",
    "#dico"
   ]
  },
  {
   "cell_type": "code",
   "execution_count": 103,
   "metadata": {},
   "outputs": [],
   "source": [
    "triplets_to_amino_acids={ki:v for k,v in all_triplets_to_amino_acids.items() \n",
    "                         for ki in (k if type(k) is tuple else (k,))}"
   ]
  },
  {
   "cell_type": "code",
   "execution_count": 108,
   "metadata": {},
   "outputs": [
    {
     "data": {
      "text/plain": [
       "[0.3333333333333333, 0.6666666666666666, 9]"
      ]
     },
     "execution_count": 108,
     "metadata": {},
     "output_type": "execute_result"
    }
   ],
   "source": [
    "[ x**2 if x>2 else x/3 for x in [1,2,3]] # le if à la fin = filtration"
   ]
  },
  {
   "cell_type": "code",
   "execution_count": 110,
   "metadata": {},
   "outputs": [],
   "source": [
    "translator = { k if type(key) is tuple else key :val \n",
    "     for key,val in all_triplets_to_amino_acids.items() \n",
    "         for k in key  }"
   ]
  },
  {
   "cell_type": "markdown",
   "metadata": {},
   "source": [
    "3."
   ]
  },
  {
   "cell_type": "code",
   "execution_count": 111,
   "metadata": {},
   "outputs": [],
   "source": [
    "arn = 'GCCGAGTAACTAGCCAGCTATGACACGATCCCGGCTAGGAAAGTGAACCCGCGGAAGTATATTGGTACCTCACGGTAGGAGACGGCGGGATAATTCTTGTCGCTGTGTGTGCCATCGTACACGAGACGGGTCCACTGAGTAAAGCGAGTATCACACAGACGAAGGTGACCTCCCCTTGTAGTCAGTAATCTTTCCTGAATCTAATTACTGTCATCGATTGCAAAACTTTGCAAAAAAACATTTGTAGACAACCGCTTACGTGGCGCTTCCTGCATTAAACGATTCCGGTGCACGGAACAA'"
   ]
  },
  {
   "cell_type": "code",
   "execution_count": 113,
   "metadata": {},
   "outputs": [],
   "source": [
    "triplets = [ arn[i:i+3] for i in range(0, len(arn), 3)  ]"
   ]
  },
  {
   "cell_type": "markdown",
   "metadata": {},
   "source": [
    "4."
   ]
  },
  {
   "cell_type": "code",
   "execution_count": 116,
   "metadata": {},
   "outputs": [
    {
     "data": {
      "text/plain": [
       "'Ala'"
      ]
     },
     "execution_count": 116,
     "metadata": {},
     "output_type": "execute_result"
    }
   ],
   "source": [
    "translator[\"GCT\"]"
   ]
  },
  {
   "cell_type": "code",
   "execution_count": 118,
   "metadata": {},
   "outputs": [
    {
     "data": {
      "text/plain": [
       "'Ala-Glu-STOP-Leu-Ala-Ser-Tyr-Asp-Thr-Ile-Pro-Ala-Arg-Lys-Val-Asn-Pro-Arg-Lys-Tyr-Ile-Gly-Thr-Ser-Arg-STOP-Glu-Thr-Ala-Gly-STOP-Phe-Leu-Ser-Leu-Cys-Val-Pro-Ser-Tyr-Thr-Arg-Arg-Val-His-STOP-Val-Lys-Arg-Val-Ser-His-Arg-Arg-Arg-STOP-Pro-Pro-Leu-Val-Val-Ser-Asn-Leu-Ser-STOP-Ile-STOP-Leu-Leu-Ser-Ser-Ile-Ala-Lys-Leu-Cys-Lys-Lys-Thr-Phe-Val-Asp-Asn-Arg-Leu-Arg-Gly-Ala-Ser-Cys-Ile-Lys-Arg-Phe-Arg-Cys-Thr-Glu-Gln'"
      ]
     },
     "execution_count": 118,
     "metadata": {},
     "output_type": "execute_result"
    }
   ],
   "source": [
    "\"-\".join([ translator[triplet] for triplet in triplets ])"
   ]
  },
  {
   "cell_type": "code",
   "execution_count": null,
   "metadata": {},
   "outputs": [],
   "source": []
  }
 ],
 "metadata": {
  "kernelspec": {
   "display_name": "Python 3",
   "language": "python",
   "name": "python3"
  },
  "language_info": {
   "codemirror_mode": {
    "name": "ipython",
    "version": 3
   },
   "file_extension": ".py",
   "mimetype": "text/x-python",
   "name": "python",
   "nbconvert_exporter": "python",
   "pygments_lexer": "ipython3",
   "version": "3.8.4"
  }
 },
 "nbformat": 4,
 "nbformat_minor": 4
}
